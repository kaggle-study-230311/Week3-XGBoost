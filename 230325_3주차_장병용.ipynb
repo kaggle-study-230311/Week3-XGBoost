{
 "cells": [
  {
   "attachments": {},
   "cell_type": "markdown",
   "metadata": {
    "_uuid": "0479e25c001874fda15f875d76f8663885caa138"
   },
   "source": [
    "# LGMB with random split for early stopping\n",
    "\n",
    "**Edits by Eric Antoine Scuccimarra** - This is a fork of  https://www.kaggle.com/mlisovyi/feature-engineering-lighgbm-with-f1-macro, by Misha Losvyi, with a few changes:\n",
    " - LightGBM 모델이 XGBoost로 교체되었으며 그에 따라 코드가 업데이트되었습니다.\n",
    " - 또한 랜덤포레스트의 투표분류기를 장착하고 XGB의 결과를 RFs와 조합하고 있습니다.\n",
    " - 몇 가지 추가 기능이 추가되었습니다.\n",
    " - 이전에 삭제되었던 일부 기능은 그대로 유지되었습니다.\n",
    " - 일부 코드가 재구성되었습니다.\n",
    " - 데이터를 한 번 분할하여 LGBM early stopping를 위한 검증 데이터로 사용하는 대신, 훈련 중에 데이터를 분할하여 전체 훈련 집합을 훈련할 수 있도록 했습니다. 이 경우 k-fold split보다 이 방법이 더 효과적이라는 것을 알게 되었습니다.\n",
    "\n",
    "Some additional features were taken from: https://www.kaggle.com/kuriyaman1002/reduce-features-140-84-keeping-f1-score, by Kuriyaman.\n",
    " \n",
    "**Notes from Original Kernel (edited by EAS):**\n",
    "\n",
    "This kernel closely follows https://www.kaggle.com/mlisovyi/lighgbm-hyperoptimisation-with-f1-macro, 하이퍼파라미터 최적화를 실행하는 대신 해당 커널의 최적 값을 사용하므로 더 빠르게 실행됩니다. \n",
    "\n",
    "Several key points:\n",
    "- **이 커널은 세대주에 대해서만 훈련을 실행합니다** (after extracting aggregates over households). This follows the announced scoring startegy: *Note that ONLY the heads of household are used in scoring. All household members are included in test + the sample submission, but only heads of households are scored.* (from the data description). However, at the moment it seems that evaluation depends also on non-head household members, see https://www.kaggle.com/c/costa-rican-household-poverty-prediction/discussion/61403#360115. 실제로, 완전 예측은 ~ 0.4 PLB 점수를 부여하는 반면, 모든 비가구원 항목을 1등급으로 대체하면 ~ 0.2 PLB 점수로 떨어집니다.\n",
    "- **It seems to be very important to balance class frequencies.** Without balancing a trained 밸런싱을 하지 않고 훈련된 모델은 ~0.39 PLB / ~0.43 로컬 테스트를 제공하는 반면, 밸런싱을 추가하면 ~0.42 PLB / 0.47 로컬 테스트가 됩니다. 밸런싱은 수작업으로 할 수도 있고 언더샘플링을 통해 달성할 수도 있습니다. 하지만 가장 간단하고 언더샘플링에 비해 더 강력한 방법은 sklearn API의 LightGBM 모델 생성자에서 `class_weight='balanced'`를 설정하는 것입니다.\n",
    "- **이 커널은 macro F1 score를 사용하여 훈련 중 조기 종료**합니다. 이는 채점 전략에 맞추기 위해 수행됩니다.\n",
    "- 카테고리는 blind label encoding 대신 적절한 매핑을 통해 숫자로 변환됩니다. \n",
    "- **OHE if reversed into label encoding, as it is easier to digest for a tree model.** This trick would be harmful for non-tree models, so be careful.\n",
    "- **idhogar is NOT used in training**. 정보를 얻을 수 있는 유일한 방법은 데이터 유출이 있는 경우뿐입니다. 우리는 여기서 빈곤과 싸우고 있습니다. 유출을 악용한다고 해서 빈곤이 줄어들지 않습니다 :)\n",
    "- **가구 내에서 집계가 이루어지며 새로운 기능은 hand-crafted**.  대부분의 기능이 이미 가구 단위로 인용되므로 집계할 수 있는 기능이 많지 않다는 점에 유의하세요.\n",
    "- **A voting classifier is used to average over several LightGBM models**"
   ]
  },
  {
   "cell_type": "code",
   "execution_count": 24,
   "metadata": {
    "_cell_guid": "b1076dfc-b9ad-4769-8c92-a6c4dae69d19",
    "_kg_hide-input": true,
    "_uuid": "8f2839f25d086af736a60e9eeb907d3b93b6e0e5",
    "collapsed": true
   },
   "outputs": [],
   "source": [
    "import numpy as np # linear algebra\n",
    "import pandas as pd \n",
    "\n",
    "import matplotlib\n",
    "import matplotlib.pyplot as plt\n",
    "import seaborn as sns\n",
    "%matplotlib inline \n",
    "\n",
    "import lightgbm as lgb\n",
    "import xgboost as xgb\n",
    "from sklearn.metrics import f1_score\n",
    "# from sklearn.externals.joblib import Parallel, delayed\n",
    "import joblib\n",
    "from joblib import Parallel, delayed\n",
    "from sklearn.base import clone\n",
    "from sklearn.ensemble import VotingClassifier, ExtraTreesClassifier, RandomForestClassifier\n",
    "from sklearn.utils import class_weight\n",
    "\n",
    "import warnings\n",
    "warnings.filterwarnings(\"ignore\")"
   ]
  },
  {
   "cell_type": "markdown",
   "metadata": {
    "_uuid": "8e4e08a17549fd247619178c96c3ade2519e9773"
   },
   "source": [
    "The following categorical mapping originates from [this kernel](https://www.kaggle.com/mlisovyi/categorical-variables-encoding-function)."
   ]
  },
  {
   "cell_type": "code",
   "execution_count": 25,
   "metadata": {
    "_cell_guid": "79c7e3d0-c299-4dcb-8224-4455121ee9b0",
    "_kg_hide-input": true,
    "_uuid": "d629ff2d2480ee46fbb7e2d37f6b5fab8052498a",
    "collapsed": true
   },
   "outputs": [],
   "source": [
    "from sklearn.preprocessing import LabelEncoder\n",
    "\n",
    "# this only transforms the idhogar field, the other things this function used to do are done elsewhere\n",
    "def encode_data(df):\n",
    "    df['idhogar'] = LabelEncoder().fit_transform(df['idhogar'])\n",
    "\n",
    "# plot feature importance for sklearn decision trees    \n",
    "def feature_importance(forest, X_train, display_results=True):\n",
    "    ranked_list = []\n",
    "    zero_features = []\n",
    "    \n",
    "    importances = forest.feature_importances_\n",
    "\n",
    "    indices = np.argsort(importances)[::-1]\n",
    "    \n",
    "    if display_results:\n",
    "        # Print the feature ranking\n",
    "        print(\"Feature ranking:\")\n",
    "\n",
    "    for f in range(X_train.shape[1]):\n",
    "        if display_results:\n",
    "            print(\"%d. feature %d (%f)\" % (f + 1, indices[f], importances[indices[f]]) + \" - \" + X_train.columns[indices[f]])\n",
    "        \n",
    "        ranked_list.append(X_train.columns[indices[f]])\n",
    "        \n",
    "        if importances[indices[f]] == 0.0:\n",
    "            zero_features.append(X_train.columns[indices[f]])\n",
    "            \n",
    "    return ranked_list, zero_features"
   ]
  },
  {
   "cell_type": "markdown",
   "metadata": {
    "_uuid": "1785c8ca3467a7e95d007a2c5f36e39919fc0910"
   },
   "source": [
    "**There is also feature engineering magic happening here:**"
   ]
  },
  {
   "cell_type": "code",
   "execution_count": 26,
   "metadata": {
    "_kg_hide-input": true,
    "_uuid": "9c9f13e54fc2af9f938b895959631e1aeb3b08a2",
    "collapsed": true
   },
   "outputs": [],
   "source": [
    "def do_features(df):\n",
    "    feats_div = [('children_fraction', 'r4t1', 'r4t3'), \n",
    "                 ('working_man_fraction', 'r4h2', 'r4t3'),\n",
    "                 ('all_man_fraction', 'r4h3', 'r4t3'),\n",
    "                 ('human_density', 'tamviv', 'rooms'),\n",
    "                 ('human_bed_density', 'tamviv', 'bedrooms'),\n",
    "                 ('rent_per_person', 'v2a1', 'r4t3'),\n",
    "                 ('rent_per_room', 'v2a1', 'rooms'),\n",
    "                 ('mobile_density', 'qmobilephone', 'r4t3'),\n",
    "                 ('tablet_density', 'v18q1', 'r4t3'),\n",
    "                 ('mobile_adult_density', 'qmobilephone', 'r4t2'),\n",
    "                 ('tablet_adult_density', 'v18q1', 'r4t2'),\n",
    "                ]\n",
    "    \n",
    "    feats_sub = [('people_not_living', 'tamhog', 'tamviv'),\n",
    "                 ('people_weird_stat', 'tamhog', 'r4t3')]\n",
    "\n",
    "    for f_new, f1, f2 in feats_div:\n",
    "        df['fe_' + f_new] = (df[f1] / df[f2]).astype(np.float32)       \n",
    "    for f_new, f1, f2 in feats_sub:\n",
    "        df['fe_' + f_new] = (df[f1] - df[f2]).astype(np.float32)\n",
    "    \n",
    "    # aggregation rules over household\n",
    "    aggs_num = {'age': ['min', 'max', 'mean'],\n",
    "                'escolari': ['min', 'max', 'mean']\n",
    "               }\n",
    "    \n",
    "    aggs_cat = {'dis': ['mean']}\n",
    "    for s_ in ['estadocivil', 'parentesco', 'instlevel']:\n",
    "        for f_ in [f_ for f_ in df.columns if f_.startswith(s_)]:\n",
    "            aggs_cat[f_] = ['mean', 'count']\n",
    "\n",
    "    # aggregation over household\n",
    "    for name_, df_ in [('18', df.query('age >= 18'))]:\n",
    "        df_agg = df_.groupby('idhogar').agg({**aggs_num, **aggs_cat}).astype(np.float32)\n",
    "        df_agg.columns = pd.Index(['agg' + name_ + '_' + e[0] + \"_\" + e[1].upper() for e in df_agg.columns.tolist()])\n",
    "        df = df.join(df_agg, how='left', on='idhogar')\n",
    "        del df_agg\n",
    "\n",
    "    # Drop id's\n",
    "    df.drop(['Id'], axis=1, inplace=True)\n",
    "    \n",
    "    return df"
   ]
  },
  {
   "cell_type": "code",
   "execution_count": 27,
   "metadata": {
    "_kg_hide-input": true,
    "_uuid": "a7df32a07c9157ee02ff9688cdc70c69e7571aae",
    "collapsed": true
   },
   "outputs": [],
   "source": [
    "# convert one hot encoded fields to label encoding\n",
    "def convert_OHE2LE(df):\n",
    "    tmp_df = df.copy(deep=True)\n",
    "    for s_ in ['pared', 'piso', 'techo', 'abastagua', 'sanitario', 'energcocinar', 'elimbasu', \n",
    "               'epared', 'etecho', 'eviv', 'estadocivil', 'parentesco', \n",
    "               'instlevel', 'lugar', 'tipovivi',\n",
    "               'manual_elec']:\n",
    "        if 'manual_' not in s_:\n",
    "            cols_s_ = [f_ for f_ in df.columns if f_.startswith(s_)]\n",
    "        elif 'elec' in s_:\n",
    "            cols_s_ = ['public', 'planpri', 'noelec', 'coopele']\n",
    "        sum_ohe = tmp_df[cols_s_].sum(axis=1).unique()\n",
    "        #deal with those OHE, where there is a sum over columns == 0\n",
    "        if 0 in sum_ohe:\n",
    "            print('The OHE in {} is incomplete. A new column will be added before label encoding'\n",
    "                  .format(s_))\n",
    "            # dummy colmn name to be added\n",
    "            col_dummy = s_+'_dummy'\n",
    "            # add the column to the dataframe\n",
    "            tmp_df[col_dummy] = (tmp_df[cols_s_].sum(axis=1) == 0).astype(np.int8)\n",
    "            # add the name to the list of columns to be label-encoded\n",
    "            cols_s_.append(col_dummy)\n",
    "            # proof-check, that now the category is complete\n",
    "            sum_ohe = tmp_df[cols_s_].sum(axis=1).unique()\n",
    "            if 0 in sum_ohe:\n",
    "                 print(\"The category completion did not work\")\n",
    "        tmp_cat = tmp_df[cols_s_].idxmax(axis=1)\n",
    "        tmp_df[s_ + '_LE'] = LabelEncoder().fit_transform(tmp_cat).astype(np.int16)\n",
    "        if 'parentesco1' in cols_s_:\n",
    "            cols_s_.remove('parentesco1')\n",
    "        tmp_df.drop(cols_s_, axis=1, inplace=True)\n",
    "    return tmp_df"
   ]
  },
  {
   "cell_type": "markdown",
   "metadata": {
    "_uuid": "eab84429fc9893c82e33b8319161c190b4104e9f"
   },
   "source": [
    "# Read in the data and clean it up"
   ]
  },
  {
   "cell_type": "code",
   "execution_count": 28,
   "metadata": {
    "_uuid": "e6f696a1677230c565532f141a02852e7c69b2e1",
    "collapsed": true
   },
   "outputs": [],
   "source": [
    "path = 'G:/다른 컴퓨터/My_desktop/project/study/kaggle/data/costa-rican-household-poverty-prediction'\n",
    "\n",
    "train = pd.read_csv(path + '/train.csv')\n",
    "test = pd.read_csv(path + '/test.csv')\n",
    "\n",
    "test_ids = test.Id"
   ]
  },
  {
   "cell_type": "code",
   "execution_count": 29,
   "metadata": {
    "_uuid": "bd1f66cbdbfa4741d19a8b1f53793b967d62d281",
    "collapsed": true
   },
   "outputs": [],
   "source": [
    "def process_df(df_):\n",
    "    # encode the idhogar\n",
    "    encode_data(df_)\n",
    "    \n",
    "    # create aggregate features\n",
    "    return do_features(df_)\n",
    "\n",
    "train = process_df(train)\n",
    "test = process_df(test)"
   ]
  },
  {
   "cell_type": "markdown",
   "metadata": {
    "_uuid": "aaf8a52a939c7d5bc548cbe4ecc1458caae60e7d"
   },
   "source": [
    "Clean up some missing data and convert objects to numeric."
   ]
  },
  {
   "cell_type": "code",
   "execution_count": 30,
   "metadata": {
    "_uuid": "65dab0e9a94e8f87a7b73e7ec2c6559e4ccef996",
    "collapsed": true,
    "scrolled": true
   },
   "outputs": [],
   "source": [
    "# some dependencies are Na, fill those with the square root of the square\n",
    "train['dependency'] = np.sqrt(train['SQBdependency'])\n",
    "test['dependency'] = np.sqrt(test['SQBdependency'])\n",
    "\n",
    "# fill \"no\"s for education with 0s\n",
    "train.loc[train['edjefa'] == \"no\", \"edjefa\"] = 0\n",
    "train.loc[train['edjefe'] == \"no\", \"edjefe\"] = 0\n",
    "test.loc[test['edjefa'] == \"no\", \"edjefa\"] = 0\n",
    "test.loc[test['edjefe'] == \"no\", \"edjefe\"] = 0\n",
    "\n",
    "# if education is \"yes\" and person is head of household, fill with escolari\n",
    "train.loc[(train['edjefa'] == \"yes\") & (train['parentesco1'] == 1), \"edjefa\"] = train.loc[(train['edjefa'] == \"yes\") & (train['parentesco1'] == 1), \"escolari\"]\n",
    "train.loc[(train['edjefe'] == \"yes\") & (train['parentesco1'] == 1), \"edjefe\"] = train.loc[(train['edjefe'] == \"yes\") & (train['parentesco1'] == 1), \"escolari\"]\n",
    "\n",
    "test.loc[(test['edjefa'] == \"yes\") & (test['parentesco1'] == 1), \"edjefa\"] = test.loc[(test['edjefa'] == \"yes\") & (test['parentesco1'] == 1), \"escolari\"]\n",
    "test.loc[(test['edjefe'] == \"yes\") & (test['parentesco1'] == 1), \"edjefe\"] = test.loc[(test['edjefe'] == \"yes\") & (test['parentesco1'] == 1), \"escolari\"]\n",
    "\n",
    "# this field is supposed to be interaction between gender and escolari, but it isn't clear what \"yes\" means, let's fill it with 4\n",
    "train.loc[train['edjefa'] == \"yes\", \"edjefa\"] = 4\n",
    "train.loc[train['edjefe'] == \"yes\", \"edjefe\"] = 4\n",
    "\n",
    "test.loc[test['edjefa'] == \"yes\", \"edjefa\"] = 4\n",
    "test.loc[test['edjefe'] == \"yes\", \"edjefe\"] = 4\n",
    "\n",
    "# convert to int for our models\n",
    "train['edjefe'] = train['edjefe'].astype(\"int\")\n",
    "train['edjefa'] = train['edjefa'].astype(\"int\")\n",
    "test['edjefe'] = test['edjefe'].astype(\"int\")\n",
    "test['edjefa'] = test['edjefa'].astype(\"int\")\n",
    "\n",
    "# create feature with max education of either head of household\n",
    "train['edjef'] = np.max(train[['edjefa','edjefe']], axis=1)\n",
    "test['edjef'] = np.max(test[['edjefa','edjefe']], axis=1)\n",
    "\n",
    "# fill some nas\n",
    "train['v2a1']=train['v2a1'].fillna(0)\n",
    "test['v2a1']=test['v2a1'].fillna(0)\n",
    "\n",
    "test['v18q1']=test['v18q1'].fillna(0)\n",
    "train['v18q1']=train['v18q1'].fillna(0)\n",
    "\n",
    "train['rez_esc']=train['rez_esc'].fillna(0)\n",
    "test['rez_esc']=test['rez_esc'].fillna(0)\n",
    "\n",
    "train.loc[train.meaneduc.isnull(), \"meaneduc\"] = 0\n",
    "train.loc[train.SQBmeaned.isnull(), \"SQBmeaned\"] = 0\n",
    "\n",
    "test.loc[test.meaneduc.isnull(), \"meaneduc\"] = 0\n",
    "test.loc[test.SQBmeaned.isnull(), \"SQBmeaned\"] = 0\n",
    "\n",
    "# fix some inconsistencies in the data - some rows indicate both that the household does and does not have a toilet, \n",
    "# if there is no water we'll assume they do not\n",
    "train.loc[(train.v14a ==  1) & (train.sanitario1 ==  1) & (train.abastaguano == 0), \"v14a\"] = 0\n",
    "train.loc[(train.v14a ==  1) & (train.sanitario1 ==  1) & (train.abastaguano == 0), \"sanitario1\"] = 0\n",
    "\n",
    "test.loc[(test.v14a ==  1) & (test.sanitario1 ==  1) & (test.abastaguano == 0), \"v14a\"] = 0\n",
    "test.loc[(test.v14a ==  1) & (test.sanitario1 ==  1) & (test.abastaguano == 0), \"sanitario1\"] = 0"
   ]
  },
  {
   "cell_type": "code",
   "execution_count": 31,
   "metadata": {
    "_uuid": "b564a6552f0521581af1ee38d6040ef7ae5d2fb5",
    "collapsed": true
   },
   "outputs": [],
   "source": [
    "def train_test_apply_func(train_, test_, func_):\n",
    "    test_['Target'] = 0\n",
    "    xx = pd.concat([train_, test_])\n",
    "\n",
    "    xx_func = func_(xx)\n",
    "    train_ = xx_func.iloc[:train_.shape[0], :]\n",
    "    test_  = xx_func.iloc[train_.shape[0]:, :].drop('Target', axis=1)\n",
    "\n",
    "    del xx, xx_func\n",
    "    return train_, test_"
   ]
  },
  {
   "cell_type": "code",
   "execution_count": 32,
   "metadata": {
    "_uuid": "2695108e103c9c61088fc4c100d01bc8c0f4138c",
    "collapsed": true
   },
   "outputs": [
    {
     "name": "stdout",
     "output_type": "stream",
     "text": [
      "The OHE in techo is incomplete. A new column will be added before label encoding\n",
      "The OHE in instlevel is incomplete. A new column will be added before label encoding\n",
      "The OHE in manual_elec is incomplete. A new column will be added before label encoding\n"
     ]
    }
   ],
   "source": [
    "# convert the one hot fields into label encoded\n",
    "train, test = train_test_apply_func(train, test, convert_OHE2LE)"
   ]
  },
  {
   "cell_type": "markdown",
   "metadata": {
    "_uuid": "e90e68abd266c9db808dbf336308cef7175886bd"
   },
   "source": [
    "# Geo aggregates"
   ]
  },
  {
   "cell_type": "code",
   "execution_count": 33,
   "metadata": {
    "_uuid": "0ffc288b3829ffdb1dabf8f2e7fe518f2f520480",
    "collapsed": true
   },
   "outputs": [],
   "source": [
    "cols_2_ohe = ['eviv_LE', 'etecho_LE', 'epared_LE', 'elimbasu_LE', \n",
    "              'energcocinar_LE', 'sanitario_LE', 'manual_elec_LE',\n",
    "              'pared_LE']\n",
    "cols_nums = ['age', 'meaneduc', 'dependency', \n",
    "             'hogar_nin', 'hogar_adul', 'hogar_mayor', 'hogar_total',\n",
    "             'bedrooms', 'overcrowding']\n",
    "\n",
    "def convert_geo2aggs(df_):\n",
    "    tmp_df = pd.concat([df_[(['lugar_LE', 'idhogar']+cols_nums)],\n",
    "                        pd.get_dummies(df_[cols_2_ohe], \n",
    "                                       columns=cols_2_ohe)],axis=1)\n",
    "\n",
    "    geo_agg = tmp_df.groupby(['lugar_LE','idhogar']).mean().groupby('lugar_LE').mean().astype(np.float32)\n",
    "    geo_agg.columns = pd.Index(['geo_' + e for e in geo_agg.columns.tolist()])\n",
    "    \n",
    "    del tmp_df\n",
    "    return df_.join(geo_agg, how='left', on='lugar_LE')\n",
    "\n",
    "# add some aggregates by geography\n",
    "train, test = train_test_apply_func(train, test, convert_geo2aggs)"
   ]
  },
  {
   "cell_type": "code",
   "execution_count": 34,
   "metadata": {},
   "outputs": [],
   "source": [
    "num_over_18 = train[train.age >= 18].groupby('idhogar')['age'].count().reset_index()\n",
    "num_over_18.columns = ['idhogar', 'num_over_18']\n",
    "train = train.merge(num_over_18, on='idhogar', how='left')\n",
    "train['num_over_18'] = train['num_over_18'].fillna(0)\n",
    "train['num_over_18'] = train.groupby(\"idhogar\")[\"num_over_18\"].transform(\"max\")"
   ]
  },
  {
   "cell_type": "code",
   "execution_count": 35,
   "metadata": {},
   "outputs": [],
   "source": [
    "num_over_18 = test[test.age >= 18].groupby('idhogar')['age'].count().reset_index()\n",
    "num_over_18.columns = ['idhogar', 'num_over_18']\n",
    "test = test.merge(num_over_18, on='idhogar', how='left')\n",
    "test['num_over_18'] = test['num_over_18'].fillna(0)\n",
    "test['num_over_18'] = test.groupby(\"idhogar\")[\"num_over_18\"].transform(\"max\")"
   ]
  },
  {
   "cell_type": "code",
   "execution_count": 36,
   "metadata": {
    "_uuid": "bc96d527090d9b0723049c5d763c97be5145b8c7",
    "collapsed": true
   },
   "outputs": [],
   "source": [
    "# add the number of people over 18 in each household\n",
    "# train['num_over_18'] = 0\n",
    "# train['num_over_18'] = train[train.age >= 18].groupby('idhogar').transform(\"count\")\n",
    "# train['num_over_18'] = train.groupby(\"idhogar\")[\"num_over_18\"].transform(\"max\")\n",
    "# train['num_over_18'] = train['num_over_18'].fillna(0)\n",
    "\n",
    "# test['num_over_18'] = 0\n",
    "# test['num_over_18'] = test[test.age >= 18].groupby('idhogar').transform(\"count\")\n",
    "# test['num_over_18'] = test.groupby(\"idhogar\")[\"num_over_18\"].transform(\"max\")\n",
    "# test['num_over_18'] = test['num_over_18'].fillna(0)\n",
    "\n",
    "# add some extra features, these were taken from another kernel\n",
    "def extract_features(df):\n",
    "    df['bedrooms_to_rooms'] = df['bedrooms']/df['rooms']\n",
    "    df['rent_to_rooms'] = df['v2a1']/df['rooms']\n",
    "    df['tamhog_to_rooms'] = df['tamhog']/df['rooms'] # tamhog - size of the household\n",
    "    df['r4t3_to_tamhog'] = df['r4t3']/df['tamhog'] # r4t3 - Total persons in the household\n",
    "    df['r4t3_to_rooms'] = df['r4t3']/df['rooms'] # r4t3 - Total persons in the household\n",
    "    df['v2a1_to_r4t3'] = df['v2a1']/df['r4t3'] # rent to people in household\n",
    "    df['v2a1_to_r4t3'] = df['v2a1']/(df['r4t3'] - df['r4t1']) # rent to people under age 12\n",
    "    df['hhsize_to_rooms'] = df['hhsize']/df['rooms'] # rooms per person\n",
    "    df['rent_to_hhsize'] = df['v2a1']/df['hhsize'] # rent to household size\n",
    "    df['rent_to_over_18'] = df['v2a1']/df['num_over_18']\n",
    "    # some households have no one over 18, use the total rent for those\n",
    "    df.loc[df.num_over_18 == 0, \"rent_to_over_18\"] = df[df.num_over_18 == 0].v2a1\n",
    "    \n",
    "extract_features(train)\n",
    "extract_features(test)   "
   ]
  },
  {
   "cell_type": "code",
   "execution_count": 37,
   "metadata": {
    "_uuid": "a6ed97e10f021b42a19c7228dfc1a52ce9de2c60",
    "collapsed": true
   },
   "outputs": [],
   "source": [
    "# drop duplicated columns\n",
    "needless_cols = ['r4t3', 'tamhog', 'tamviv', 'hhsize', 'v18q', 'v14a', 'agesq',\n",
    "                 'mobilephone', 'female', ]\n",
    "\n",
    "instlevel_cols = [s for s in train.columns.tolist() if 'instlevel' in s]\n",
    "\n",
    "needless_cols.extend(instlevel_cols)\n",
    "\n",
    "train = train.drop(needless_cols, axis=1)\n",
    "test = test.drop(needless_cols, axis=1)"
   ]
  },
  {
   "cell_type": "markdown",
   "metadata": {
    "_uuid": "c6e1ccce811e7a1d76282fcb8a13edf92672f834"
   },
   "source": [
    "## Split the data\n",
    "\n",
    "We split the data by household to avoid leakage, since rows belonging to the same household usually have the same target. Since we filter the data to only include heads of household this isn't technically necessary, but it provides an easy way to use the entire training data set if we want to do that.\n",
    "\n",
    "Note that after splitting the data we overwrite the train data with the entire data set so we can train on all of the data. The split_data function does the same thing without overwriting the data, and is used within the training loop to (hopefully) approximate a K-Fold split. "
   ]
  },
  {
   "cell_type": "code",
   "execution_count": 38,
   "metadata": {
    "_uuid": "da37e677a32477006e8468b954e23d595c82eced",
    "collapsed": true
   },
   "outputs": [],
   "source": [
    "def split_data(train, y, sample_weight=None, households=None, test_percentage=0.20, seed=None):\n",
    "    # uncomment for extra randomness\n",
    "#     np.random.seed(seed=seed)\n",
    "    \n",
    "    train2 = train.copy()\n",
    "    \n",
    "    # pick some random households to use for the test data\n",
    "    cv_hhs = np.random.choice(households, size=int(len(households) * test_percentage), replace=False)\n",
    "    \n",
    "    # select households which are in the random selection\n",
    "    cv_idx = np.isin(households, cv_hhs)\n",
    "    X_test = train2[cv_idx]\n",
    "    y_test = y[cv_idx]\n",
    "\n",
    "    X_train = train2[~cv_idx]\n",
    "    y_train = y[~cv_idx]\n",
    "    \n",
    "    if sample_weight is not None:\n",
    "        y_train_weights = sample_weight[~cv_idx]\n",
    "        return X_train, y_train, X_test, y_test, y_train_weights\n",
    "    \n",
    "    return X_train, y_train, X_test, y_test"
   ]
  },
  {
   "cell_type": "code",
   "execution_count": 39,
   "metadata": {
    "_uuid": "e14a9619ca6516b225b55bf65d6a9e423d6b5fc7",
    "collapsed": true
   },
   "outputs": [],
   "source": [
    "X = train.query('parentesco1==1')\n",
    "# X = train.copy()\n",
    "\n",
    "# pull out and drop the target variable\n",
    "y = X['Target'] - 1\n",
    "X = X.drop(['Target'], axis=1)\n",
    "\n",
    "np.random.seed(seed=None)\n",
    "\n",
    "train2 = X.copy()\n",
    "\n",
    "train_hhs = train2.idhogar\n",
    "\n",
    "households = train2.idhogar.unique()\n",
    "cv_hhs = np.random.choice(households, size=int(len(households) * 0.15), replace=False)\n",
    "\n",
    "cv_idx = np.isin(train2.idhogar, cv_hhs)\n",
    "\n",
    "X_test = train2[cv_idx]\n",
    "y_test = y[cv_idx]\n",
    "\n",
    "X_train = train2[~cv_idx]\n",
    "y_train = y[~cv_idx]\n",
    "\n",
    "# train on entire dataset\n",
    "X_train = train2\n",
    "y_train = y\n",
    "\n",
    "train_households = X_train.idhogar"
   ]
  },
  {
   "cell_type": "code",
   "execution_count": 40,
   "metadata": {
    "_uuid": "871cd5b46da553f6062cef605acc761cddc2a8c0",
    "collapsed": true
   },
   "outputs": [],
   "source": [
    "# figure out the class weights for training with unbalanced classes\n",
    "y_train_weights = class_weight.compute_sample_weight('balanced', y_train, indices=None)"
   ]
  },
  {
   "cell_type": "code",
   "execution_count": 41,
   "metadata": {
    "_uuid": "d9bcfbfcfc0b5b7e3aaeb2b0c8495bd92fdf51a3",
    "collapsed": true
   },
   "outputs": [],
   "source": [
    "# drop some features which aren't used by the LGBM or have very low importance\n",
    "extra_drop_features = [\n",
    " 'agg18_estadocivil1_MEAN',\n",
    " 'agg18_estadocivil6_COUNT',\n",
    " 'agg18_estadocivil7_COUNT',\n",
    " 'agg18_parentesco10_COUNT',\n",
    " 'agg18_parentesco11_COUNT',\n",
    " 'agg18_parentesco12_COUNT',\n",
    " 'agg18_parentesco1_COUNT',\n",
    " 'agg18_parentesco2_COUNT',\n",
    " 'agg18_parentesco3_COUNT',\n",
    " 'agg18_parentesco4_COUNT',\n",
    " 'agg18_parentesco5_COUNT',\n",
    " 'agg18_parentesco6_COUNT',\n",
    " 'agg18_parentesco7_COUNT',\n",
    " 'agg18_parentesco8_COUNT',\n",
    " 'agg18_parentesco9_COUNT',\n",
    " 'geo_elimbasu_LE_4',\n",
    " 'geo_energcocinar_LE_1',\n",
    " 'geo_energcocinar_LE_2',\n",
    " 'geo_epared_LE_0',\n",
    " 'geo_hogar_mayor',\n",
    " 'geo_manual_elec_LE_2',\n",
    " 'geo_pared_LE_3',\n",
    " 'geo_pared_LE_4',\n",
    " 'geo_pared_LE_5',\n",
    " 'geo_pared_LE_6',\n",
    " 'num_over_18',\n",
    " 'parentesco_LE',\n",
    " 'rez_esc']"
   ]
  },
  {
   "cell_type": "code",
   "execution_count": 42,
   "metadata": {
    "_uuid": "67a0f3b7d019517ed9a40b41df318284a33a5ce1",
    "collapsed": true
   },
   "outputs": [],
   "source": [
    "xgb_drop_cols = extra_drop_features + [\"idhogar\",  'parentesco1']"
   ]
  },
  {
   "cell_type": "markdown",
   "metadata": {
    "_uuid": "2dc384aeb44db2454978df78fdbb84b2b1ff3ced"
   },
   "source": [
    "# Fit a voting classifier\n",
    "Define a derived VotingClassifier class to be able to pass `fit_params` for early stopping. Vote based on LGBM models with early stopping based on macro F1 and decaying learning rate.\n",
    "\n",
    "The parameters are optimised with a random search in this kernel: https://www.kaggle.com/mlisovyi/lighgbm-hyperoptimisation-with-f1-macro"
   ]
  },
  {
   "cell_type": "code",
   "execution_count": 43,
   "metadata": {
    "_uuid": "629cf88dd0596a98d58487495e5b096636e2586a",
    "collapsed": true
   },
   "outputs": [],
   "source": [
    "# silent는 업데이트로 인해 사용되지 않음 verbosity=0 으로 진행\n",
    "# 4\n",
    "opt_parameters = {'max_depth':35, 'eta':0.1, 'verbosity':0, 'objective':'multi:softmax', 'min_child_weight': 1, 'num_class': 4, 'gamma': 2.0, 'colsample_bylevel': 0.9, 'subsample': 0.84, 'colsample_bytree': 0.88, 'reg_lambda': 0.40 }\n",
    "# 5\n",
    "opt_parameters = {'max_depth':35, 'eta':0.15, 'verbosity':1, 'objective':'multi:softmax', 'min_child_weight': 2, 'num_class': 4, 'gamma': 2.5, 'colsample_bylevel': 1, 'subsample': 0.95, 'colsample_bytree': 0.85, 'reg_lambda': 0.35 }\n",
    "# 6\n",
    "# opt_parameters = {'max_depth':35, 'eta':0.15, 'silent':0, 'objective':'multi:softmax', 'min_child_weight': 2, 'num_class': 4, 'gamma': 2.75, 'colsample_bylevel': 0.95, 'subsample': 0.95, 'colsample_bytree': 0.85, 'reg_lambda': 0.35 }\n",
    "# # 7\n",
    "# opt_parameters = {'max_depth':35, 'eta':0.12, 'silent':0, 'objective':'multi:softmax', 'min_child_weight': 2, 'num_class': 4, 'gamma': 3.25, 'colsample_bylevel': 0.95, 'subsample': 0.88, 'colsample_bytree': 0.88, 'reg_lambda': 0.35 }\n",
    "\n",
    "# def evaluate_macroF1_lgb(predictions, truth):  \n",
    "#     # this follows the discussion in https://github.com/Microsoft/LightGBM/issues/1483\n",
    "#     # pred_labels = predictions.argmax(axis=1)\n",
    "#     pred_labels = predictions.argmax(axis=0)\n",
    "#     truth = truth.get_label()\n",
    "#     f1 = f1_score(truth, pred_labels, average='macro')\n",
    "#     return ('macroF1', 1-f1) \n",
    "\n",
    "def evaluate_macroF1_lgb(predictions, truth):  \n",
    "    # this follows the discussion in https://github.com/Microsoft/LightGBM/issues/1483\n",
    "    # pred_labels = predictions.argmax()\n",
    "    truth = truth.get_label()\n",
    "    \n",
    "    f1 = f1_score(truth, predictions, average='macro')\n",
    "    return ('macroF1', 1-f1)\n",
    "\n",
    "fit_params={\"early_stopping_rounds\":500,\n",
    "            \"eval_metric\" : evaluate_macroF1_lgb, \n",
    "            \"eval_set\" : [(X_train,y_train), (X_test,y_test)],\n",
    "            'verbose': False,\n",
    "           }\n",
    "\n",
    "def learning_rate_power_0997(current_iter):\n",
    "    base_learning_rate = 0.1\n",
    "    min_learning_rate = 0.02\n",
    "    lr = base_learning_rate  * np.power(.995, current_iter)\n",
    "    return max(lr, min_learning_rate)\n",
    "\n",
    "fit_params['verbose'] = 50"
   ]
  },
  {
   "cell_type": "code",
   "execution_count": 44,
   "metadata": {
    "_kg_hide-input": true,
    "_uuid": "101a2fd45bbbe6c7fb351513803550d4edeef2b3",
    "collapsed": true
   },
   "outputs": [],
   "source": [
    "np.random.seed(100)\n",
    "\n",
    "def _parallel_fit_estimator(estimator1, X, y, sample_weight=None, threshold=True, **fit_params):\n",
    "    estimator = clone(estimator1)\n",
    "    \n",
    "    # randomly split the data so we have a test set for early stopping\n",
    "    if sample_weight is not None:\n",
    "        X_train, y_train, X_test, y_test, y_train_weight = split_data(X, y, sample_weight, households=train_households)\n",
    "    else:\n",
    "        X_train, y_train, X_test, y_test = split_data(X, y, None, households=train_households)\n",
    "        \n",
    "    # update the fit params with our new split\n",
    "    fit_params[\"eval_set\"] = [(X_test,y_test)]\n",
    "    \n",
    "    # fit the estimator\n",
    "    if sample_weight is not None:\n",
    "        if isinstance(estimator1, ExtraTreesClassifier) or isinstance(estimator1, RandomForestClassifier):\n",
    "            estimator.fit(X_train, y_train)\n",
    "        else:\n",
    "            _ = estimator.fit(X_train, y_train, sample_weight=y_train_weight, **fit_params)\n",
    "    else:\n",
    "        if isinstance(estimator1, ExtraTreesClassifier) or isinstance(estimator1, RandomForestClassifier):\n",
    "            estimator.fit(X_train, y_train)\n",
    "        else:\n",
    "            _ = estimator.fit(X_train, y_train, **fit_params)\n",
    "    \n",
    "    if not isinstance(estimator1, ExtraTreesClassifier) and not isinstance(estimator1, RandomForestClassifier) and not isinstance(estimator1, xgb.XGBClassifier):\n",
    "        best_cv_round = np.argmax(estimator.evals_result_['validation_0']['mlogloss'])\n",
    "        best_cv = np.max(estimator.evals_result_['validation_0']['mlogloss'])\n",
    "        best_train = estimator.evals_result_['train']['macroF1'][best_cv_round]\n",
    "    else:\n",
    "        best_train = f1_score(y_train, estimator.predict(X_train), average=\"macro\")\n",
    "        best_cv = f1_score(y_test, estimator.predict(X_test), average=\"macro\")\n",
    "        print(\"Train F1:\", best_train)\n",
    "        print(\"Test F1:\", best_cv)\n",
    "        \n",
    "    # reject some estimators based on their performance on train and test sets\n",
    "    if threshold:\n",
    "        # if the valid score is very high we'll allow a little more leeway with the train scores\n",
    "        if ((best_cv > 0.37) and (best_train > 0.75)) or ((best_cv > 0.44) and (best_train > 0.65)):\n",
    "            return estimator\n",
    "\n",
    "        # else recurse until we get a better one\n",
    "        else:\n",
    "            print(\"Unacceptable!!! Trying again...\")\n",
    "            return _parallel_fit_estimator(estimator1, X, y, sample_weight=sample_weight, **fit_params)\n",
    "    \n",
    "    else:\n",
    "        return estimator\n",
    "    \n",
    "class VotingClassifierLGBM(VotingClassifier):\n",
    "    '''\n",
    "    This implements the fit method of the VotingClassifier propagating fit_params\n",
    "    '''\n",
    "    def fit(self, X, y, sample_weight=None, threshold=True, **fit_params):\n",
    "        \n",
    "        if isinstance(y, np.ndarray) and len(y.shape) > 1 and y.shape[1] > 1:\n",
    "            raise NotImplementedError('Multilabel and multi-output'\n",
    "                                      ' classification is not supported.')\n",
    "\n",
    "        if self.voting not in ('soft', 'hard'):\n",
    "            raise ValueError(\"Voting must be 'soft' or 'hard'; got (voting=%r)\"\n",
    "                             % self.voting)\n",
    "\n",
    "        if self.estimators is None or len(self.estimators) == 0:\n",
    "            raise AttributeError('Invalid `estimators` attribute, `estimators`'\n",
    "                                 ' should be a list of (string, estimator)'\n",
    "                                 ' tuples')\n",
    "\n",
    "        if (self.weights is not None and\n",
    "                len(self.weights) != len(self.estimators)):\n",
    "            raise ValueError('Number of classifiers and weights must be equal'\n",
    "                             '; got %d weights, %d estimators'\n",
    "                             % (len(self.weights), len(self.estimators)))\n",
    "\n",
    "        names, clfs = zip(*self.estimators)\n",
    "        self._validate_names(names)\n",
    "\n",
    "        n_isnone = np.sum([clf is None for _, clf in self.estimators])\n",
    "        if n_isnone == len(self.estimators):\n",
    "            raise ValueError('All estimators are None. At least one is '\n",
    "                             'required to be a classifier!')\n",
    "\n",
    "        self.le_ = LabelEncoder().fit(y)\n",
    "        self.classes_ = self.le_.classes_\n",
    "        self.estimators_ = []\n",
    "\n",
    "        transformed_y = self.le_.transform(y)\n",
    "\n",
    "        self.estimators_ = Parallel(n_jobs=self.n_jobs)(\n",
    "                delayed(_parallel_fit_estimator)(clone(clf), X, transformed_y,\n",
    "                                                 sample_weight=sample_weight, threshold=threshold, **fit_params)\n",
    "                for clf in clfs if clf is not None)\n",
    "\n",
    "        return self"
   ]
  },
  {
   "cell_type": "code",
   "execution_count": 45,
   "metadata": {
    "_uuid": "37b909c2aa273651b7bb57c69b939760f14f38f7",
    "collapsed": true,
    "scrolled": true
   },
   "outputs": [],
   "source": [
    "clfs = []\n",
    "for i in range(15):\n",
    "    clf = xgb.XGBClassifier(random_state=217+i,\n",
    "                            n_estimators=300,\n",
    "                            learning_rate=0.15,\n",
    "                            n_jobs=4,\n",
    "                            **opt_parameters)\n",
    "    \n",
    "    clfs.append(('xgb{}'.format(i), clf))\n",
    "    \n",
    "vc = VotingClassifierLGBM(clfs, voting='soft')\n",
    "del(clfs)\n"
   ]
  },
  {
   "cell_type": "code",
   "execution_count": 46,
   "metadata": {},
   "outputs": [
    {
     "name": "stdout",
     "output_type": "stream",
     "text": [
      "[0]\tvalidation_0-mlogloss:1.29894\tvalidation_0-macroF1:0.63874\n",
      "[50]\tvalidation_0-mlogloss:0.89615\tvalidation_0-macroF1:0.56756\n",
      "[100]\tvalidation_0-mlogloss:0.89371\tvalidation_0-macroF1:0.55565\n",
      "[150]\tvalidation_0-mlogloss:0.89062\tvalidation_0-macroF1:0.56537\n",
      "[200]\tvalidation_0-mlogloss:0.89161\tvalidation_0-macroF1:0.56447\n",
      "[250]\tvalidation_0-mlogloss:0.89255\tvalidation_0-macroF1:0.56603\n",
      "[299]\tvalidation_0-mlogloss:0.89179\tvalidation_0-macroF1:0.56650\n",
      "Train F1: 0.9115660908746297\n",
      "Test F1: 0.44462641001160175\n",
      "[0]\tvalidation_0-mlogloss:1.30399\tvalidation_0-macroF1:0.62540\n",
      "[50]\tvalidation_0-mlogloss:0.91589\tvalidation_0-macroF1:0.58098\n",
      "[100]\tvalidation_0-mlogloss:0.91543\tvalidation_0-macroF1:0.59476\n",
      "[150]\tvalidation_0-mlogloss:0.91787\tvalidation_0-macroF1:0.60346\n",
      "[200]\tvalidation_0-mlogloss:0.91642\tvalidation_0-macroF1:0.60225\n",
      "[250]\tvalidation_0-mlogloss:0.91610\tvalidation_0-macroF1:0.60209\n",
      "[299]\tvalidation_0-mlogloss:0.91594\tvalidation_0-macroF1:0.60731\n",
      "Train F1: 0.8976233528333496\n",
      "Test F1: 0.4299722420279911\n",
      "[0]\tvalidation_0-mlogloss:1.30003\tvalidation_0-macroF1:0.60316\n",
      "[50]\tvalidation_0-mlogloss:0.94443\tvalidation_0-macroF1:0.59214\n",
      "[100]\tvalidation_0-mlogloss:0.93843\tvalidation_0-macroF1:0.57918\n",
      "[150]\tvalidation_0-mlogloss:0.93847\tvalidation_0-macroF1:0.58042\n",
      "[200]\tvalidation_0-mlogloss:0.93756\tvalidation_0-macroF1:0.57726\n",
      "[250]\tvalidation_0-mlogloss:0.93589\tvalidation_0-macroF1:0.58541\n",
      "[299]\tvalidation_0-mlogloss:0.93606\tvalidation_0-macroF1:0.58968\n",
      "Train F1: 0.9128351179853464\n",
      "Test F1: 0.4326931582349539\n",
      "[0]\tvalidation_0-mlogloss:1.30547\tvalidation_0-macroF1:0.62321\n",
      "[50]\tvalidation_0-mlogloss:0.92165\tvalidation_0-macroF1:0.56081\n",
      "[100]\tvalidation_0-mlogloss:0.91869\tvalidation_0-macroF1:0.55783\n",
      "[150]\tvalidation_0-mlogloss:0.91620\tvalidation_0-macroF1:0.54999\n",
      "[200]\tvalidation_0-mlogloss:0.91636\tvalidation_0-macroF1:0.55482\n",
      "[250]\tvalidation_0-mlogloss:0.91588\tvalidation_0-macroF1:0.55061\n",
      "[299]\tvalidation_0-mlogloss:0.91557\tvalidation_0-macroF1:0.54736\n",
      "Train F1: 0.9273238446441445\n",
      "Test F1: 0.45331548653917075\n",
      "[0]\tvalidation_0-mlogloss:1.30109\tvalidation_0-macroF1:0.63195\n",
      "[50]\tvalidation_0-mlogloss:0.92433\tvalidation_0-macroF1:0.60566\n",
      "[100]\tvalidation_0-mlogloss:0.92053\tvalidation_0-macroF1:0.59748\n",
      "[150]\tvalidation_0-mlogloss:0.91912\tvalidation_0-macroF1:0.60108\n",
      "[200]\tvalidation_0-mlogloss:0.91950\tvalidation_0-macroF1:0.61223\n",
      "[250]\tvalidation_0-mlogloss:0.91866\tvalidation_0-macroF1:0.61383\n",
      "[299]\tvalidation_0-mlogloss:0.91853\tvalidation_0-macroF1:0.60909\n",
      "Train F1: 0.8604328364026029\n",
      "Test F1: 0.4192263582825215\n",
      "[0]\tvalidation_0-mlogloss:1.30172\tvalidation_0-macroF1:0.61078\n",
      "[50]\tvalidation_0-mlogloss:0.90473\tvalidation_0-macroF1:0.58278\n",
      "[100]\tvalidation_0-mlogloss:0.90000\tvalidation_0-macroF1:0.57990\n",
      "[150]\tvalidation_0-mlogloss:0.89396\tvalidation_0-macroF1:0.58043\n",
      "[200]\tvalidation_0-mlogloss:0.89226\tvalidation_0-macroF1:0.57862\n",
      "[250]\tvalidation_0-mlogloss:0.89228\tvalidation_0-macroF1:0.58604\n",
      "[299]\tvalidation_0-mlogloss:0.89270\tvalidation_0-macroF1:0.58820\n",
      "Train F1: 0.927086687566341\n",
      "Test F1: 0.42500017325799716\n",
      "[0]\tvalidation_0-mlogloss:1.30351\tvalidation_0-macroF1:0.64047\n",
      "[50]\tvalidation_0-mlogloss:0.90510\tvalidation_0-macroF1:0.58320\n",
      "[100]\tvalidation_0-mlogloss:0.90194\tvalidation_0-macroF1:0.58600\n",
      "[150]\tvalidation_0-mlogloss:0.90231\tvalidation_0-macroF1:0.58331\n",
      "[200]\tvalidation_0-mlogloss:0.90319\tvalidation_0-macroF1:0.57922\n",
      "[250]\tvalidation_0-mlogloss:0.90326\tvalidation_0-macroF1:0.58032\n",
      "[299]\tvalidation_0-mlogloss:0.90476\tvalidation_0-macroF1:0.57784\n",
      "Train F1: 0.9131085061977701\n",
      "Test F1: 0.42540312297831107\n",
      "[0]\tvalidation_0-mlogloss:1.30457\tvalidation_0-macroF1:0.66229\n",
      "[50]\tvalidation_0-mlogloss:0.92731\tvalidation_0-macroF1:0.62286\n",
      "[100]\tvalidation_0-mlogloss:0.92147\tvalidation_0-macroF1:0.62384\n",
      "[150]\tvalidation_0-mlogloss:0.92070\tvalidation_0-macroF1:0.63108\n",
      "[200]\tvalidation_0-mlogloss:0.91867\tvalidation_0-macroF1:0.63529\n",
      "[250]\tvalidation_0-mlogloss:0.91730\tvalidation_0-macroF1:0.62598\n",
      "[299]\tvalidation_0-mlogloss:0.91654\tvalidation_0-macroF1:0.63122\n",
      "Train F1: 0.9039317978478034\n",
      "Test F1: 0.3870640568511129\n",
      "[0]\tvalidation_0-mlogloss:1.29708\tvalidation_0-macroF1:0.62412\n",
      "[50]\tvalidation_0-mlogloss:0.88409\tvalidation_0-macroF1:0.56213\n",
      "[100]\tvalidation_0-mlogloss:0.88135\tvalidation_0-macroF1:0.55805\n",
      "[150]\tvalidation_0-mlogloss:0.88174\tvalidation_0-macroF1:0.55302\n",
      "[200]\tvalidation_0-mlogloss:0.87978\tvalidation_0-macroF1:0.54801\n",
      "[250]\tvalidation_0-mlogloss:0.87887\tvalidation_0-macroF1:0.54403\n",
      "[299]\tvalidation_0-mlogloss:0.87894\tvalidation_0-macroF1:0.54671\n",
      "Train F1: 0.926590037660807\n",
      "Test F1: 0.45596696580867907\n",
      "[0]\tvalidation_0-mlogloss:1.30941\tvalidation_0-macroF1:0.67391\n",
      "[50]\tvalidation_0-mlogloss:0.90405\tvalidation_0-macroF1:0.60191\n",
      "[100]\tvalidation_0-mlogloss:0.89729\tvalidation_0-macroF1:0.59552\n",
      "[150]\tvalidation_0-mlogloss:0.89797\tvalidation_0-macroF1:0.58308\n",
      "[200]\tvalidation_0-mlogloss:0.89707\tvalidation_0-macroF1:0.60787\n",
      "[250]\tvalidation_0-mlogloss:0.89635\tvalidation_0-macroF1:0.60327\n",
      "[299]\tvalidation_0-mlogloss:0.89568\tvalidation_0-macroF1:0.59413\n",
      "Train F1: 0.9177266968021762\n",
      "Test F1: 0.4169205363356127\n",
      "[0]\tvalidation_0-mlogloss:1.29873\tvalidation_0-macroF1:0.64866\n",
      "[50]\tvalidation_0-mlogloss:0.93059\tvalidation_0-macroF1:0.57796\n",
      "[100]\tvalidation_0-mlogloss:0.93043\tvalidation_0-macroF1:0.58456\n",
      "[150]\tvalidation_0-mlogloss:0.93141\tvalidation_0-macroF1:0.58464\n",
      "[200]\tvalidation_0-mlogloss:0.93280\tvalidation_0-macroF1:0.58348\n",
      "[250]\tvalidation_0-mlogloss:0.93234\tvalidation_0-macroF1:0.58326\n",
      "[299]\tvalidation_0-mlogloss:0.93234\tvalidation_0-macroF1:0.58357\n",
      "Train F1: 0.8890905288434153\n",
      "Test F1: 0.4291004079449764\n",
      "[0]\tvalidation_0-mlogloss:1.29814\tvalidation_0-macroF1:0.63167\n",
      "[50]\tvalidation_0-mlogloss:0.93109\tvalidation_0-macroF1:0.60363\n",
      "[100]\tvalidation_0-mlogloss:0.92695\tvalidation_0-macroF1:0.60890\n",
      "[150]\tvalidation_0-mlogloss:0.92862\tvalidation_0-macroF1:0.61470\n",
      "[200]\tvalidation_0-mlogloss:0.92751\tvalidation_0-macroF1:0.60809\n",
      "[250]\tvalidation_0-mlogloss:0.92977\tvalidation_0-macroF1:0.60797\n",
      "[299]\tvalidation_0-mlogloss:0.93202\tvalidation_0-macroF1:0.61026\n",
      "Train F1: 0.9022537754659561\n",
      "Test F1: 0.42152794153781975\n",
      "[0]\tvalidation_0-mlogloss:1.29890\tvalidation_0-macroF1:0.59884\n",
      "[50]\tvalidation_0-mlogloss:0.89680\tvalidation_0-macroF1:0.57203\n",
      "[100]\tvalidation_0-mlogloss:0.89428\tvalidation_0-macroF1:0.58095\n",
      "[150]\tvalidation_0-mlogloss:0.89336\tvalidation_0-macroF1:0.57380\n",
      "[200]\tvalidation_0-mlogloss:0.89353\tvalidation_0-macroF1:0.57258\n",
      "[250]\tvalidation_0-mlogloss:0.89322\tvalidation_0-macroF1:0.57108\n",
      "[299]\tvalidation_0-mlogloss:0.89235\tvalidation_0-macroF1:0.57199\n",
      "Train F1: 0.8938569029876557\n",
      "Test F1: 0.43980449162180346\n",
      "[0]\tvalidation_0-mlogloss:1.30963\tvalidation_0-macroF1:0.63537\n",
      "[50]\tvalidation_0-mlogloss:0.92115\tvalidation_0-macroF1:0.58287\n",
      "[100]\tvalidation_0-mlogloss:0.91136\tvalidation_0-macroF1:0.58107\n",
      "[150]\tvalidation_0-mlogloss:0.90792\tvalidation_0-macroF1:0.56804\n",
      "[200]\tvalidation_0-mlogloss:0.90564\tvalidation_0-macroF1:0.56718\n",
      "[250]\tvalidation_0-mlogloss:0.90621\tvalidation_0-macroF1:0.56815\n",
      "[299]\tvalidation_0-mlogloss:0.90505\tvalidation_0-macroF1:0.57516\n",
      "Train F1: 0.9216674147144617\n",
      "Test F1: 0.43368257176436975\n",
      "[0]\tvalidation_0-mlogloss:1.29451\tvalidation_0-macroF1:0.62019\n",
      "[50]\tvalidation_0-mlogloss:0.87714\tvalidation_0-macroF1:0.57123\n",
      "[100]\tvalidation_0-mlogloss:0.87027\tvalidation_0-macroF1:0.57247\n",
      "[150]\tvalidation_0-mlogloss:0.86424\tvalidation_0-macroF1:0.56200\n",
      "[200]\tvalidation_0-mlogloss:0.86369\tvalidation_0-macroF1:0.55931\n",
      "[250]\tvalidation_0-mlogloss:0.86174\tvalidation_0-macroF1:0.56405\n",
      "[299]\tvalidation_0-mlogloss:0.86261\tvalidation_0-macroF1:0.56751\n",
      "Train F1: 0.9216788990707238\n",
      "Test F1: 0.4421686411590497\n"
     ]
    }
   ],
   "source": [
    "#Train the final model with learning rate decay\n",
    "# _ = vc.fit(X_train.drop(xgb_drop_cols, axis=1), y_train, sample_weight=y_train_weights, threshold=False, **fit_params)\n",
    "_ = vc.fit(X_train.drop(xgb_drop_cols, axis=1), y_train, sample_weight=y_train_weights, threshold=False, **fit_params)\n",
    "\n",
    "clf_final = vc.estimators_[0]"
   ]
  },
  {
   "cell_type": "code",
   "execution_count": 47,
   "metadata": {
    "_uuid": "241d2973497b8eb2e5214f5c8ddb76432576ba35",
    "collapsed": true
   },
   "outputs": [
    {
     "name": "stdout",
     "output_type": "stream",
     "text": [
      "Validation score of a single LGBM Classifier: 0.8207\n",
      "Validation score of a VotingClassifier on 3 LGBMs with soft voting strategy: 0.9029\n",
      "Validation score of a VotingClassifier on 3 LGBMs with hard voting strategy: 0.9054\n"
     ]
    }
   ],
   "source": [
    "# params 4 - 400 early stop - 15 estimators - l1 used features - weighted\n",
    "global_score = f1_score(y_test, clf_final.predict(X_test.drop(xgb_drop_cols, axis=1)), average='macro')\n",
    "vc.voting = 'soft'\n",
    "global_score_soft = f1_score(y_test, vc.predict(X_test.drop(xgb_drop_cols, axis=1)), average='macro')\n",
    "vc.voting = 'hard'\n",
    "global_score_hard = f1_score(y_test, vc.predict(X_test.drop(xgb_drop_cols, axis=1)), average='macro')\n",
    "\n",
    "print('Validation score of a single LGBM Classifier: {:.4f}'.format(global_score))\n",
    "print('Validation score of a VotingClassifier on 3 LGBMs with soft voting strategy: {:.4f}'.format(global_score_soft))\n",
    "print('Validation score of a VotingClassifier on 3 LGBMs with hard voting strategy: {:.4f}'.format(global_score_hard))"
   ]
  },
  {
   "cell_type": "code",
   "execution_count": 48,
   "metadata": {
    "_uuid": "527b58d849cc1282909f15596cd5441ef4cac93d",
    "collapsed": true
   },
   "outputs": [
    {
     "data": {
      "text/plain": [
       "{'agg18_estadocivil4_COUNT',\n",
       " 'agg18_estadocivil5_COUNT',\n",
       " 'geo_energcocinar_LE_0',\n",
       " 'geo_epared_LE_2'}"
      ]
     },
     "execution_count": 48,
     "metadata": {},
     "output_type": "execute_result"
    }
   ],
   "source": [
    "# see which features are not used by ANY models\n",
    "useless_features = []\n",
    "drop_features = set()\n",
    "counter = 0\n",
    "for est in vc.estimators_:\n",
    "    ranked_features, unused_features = feature_importance(est, X_train.drop(xgb_drop_cols, axis=1), display_results=False)\n",
    "    useless_features.append(unused_features)\n",
    "    if counter == 0:\n",
    "        drop_features = set(unused_features)\n",
    "    else:\n",
    "        drop_features = drop_features.intersection(set(unused_features))\n",
    "    counter += 1\n",
    "    \n",
    "drop_features"
   ]
  },
  {
   "cell_type": "code",
   "execution_count": 49,
   "metadata": {
    "_uuid": "71dae26394955fcf940feea1c9ba1a5bcf134ce9",
    "collapsed": true
   },
   "outputs": [
    {
     "name": "stdout",
     "output_type": "stream",
     "text": [
      "Feature ranking:\n",
      "1. feature 114 (0.030279) - geo_epared_LE_1\n",
      "2. feature 42 (0.019682) - fe_children_fraction\n",
      "3. feature 74 (0.018983) - agg18_parentesco2_MEAN\n",
      "4. feature 59 (0.017248) - agg18_escolari_MAX\n",
      "5. feature 133 (0.016442) - geo_pared_LE_1\n",
      "6. feature 60 (0.014158) - agg18_escolari_MEAN\n",
      "7. feature 40 (0.013327) - SQBdependency\n",
      "8. feature 22 (0.012823) - dependency\n",
      "9. feature 34 (0.012632) - SQBescolari\n",
      "10. feature 12 (0.011761) - r4t1\n",
      "11. feature 37 (0.011632) - SQBedjefe\n",
      "12. feature 112 (0.011575) - geo_etecho_LE_1\n",
      "13. feature 126 (0.010669) - geo_sanitario_LE_3\n",
      "14. feature 96 (0.010495) - estadocivil_LE\n",
      "15. feature 116 (0.010293) - geo_elimbasu_LE_0\n",
      "16. feature 11 (0.010211) - r4m3\n",
      "17. feature 100 (0.010105) - geo_age\n",
      "18. feature 94 (0.010058) - etecho_LE\n",
      "19. feature 17 (0.009895) - male\n",
      "20. feature 105 (0.009877) - geo_hogar_total\n",
      "21. feature 87 (0.009871) - piso_LE\n",
      "22. feature 39 (0.009789) - SQBovercrowding\n",
      "23. feature 63 (0.009531) - agg18_estadocivil2_MEAN\n",
      "24. feature 117 (0.009491) - geo_elimbasu_LE_1\n",
      "25. feature 41 (0.009429) - SQBmeaned\n",
      "26. feature 95 (0.009387) - eviv_LE\n",
      "27. feature 49 (0.009266) - fe_mobile_density\n",
      "28. feature 104 (0.009116) - geo_hogar_adul\n",
      "29. feature 15 (0.009112) - cielorazo\n",
      "30. feature 23 (0.008963) - edjefe\n",
      "31. feature 93 (0.008881) - epared_LE\n",
      "32. feature 65 (0.008877) - agg18_estadocivil3_MEAN\n",
      "33. feature 124 (0.008846) - geo_sanitario_LE_1\n",
      "34. feature 109 (0.008796) - geo_eviv_LE_1\n",
      "35. feature 98 (0.008791) - tipovivi_LE\n",
      "36. feature 107 (0.008772) - geo_overcrowding\n",
      "37. feature 19 (0.008759) - hogar_adul\n",
      "38. feature 13 (0.008726) - r4t2\n",
      "39. feature 106 (0.008656) - geo_bedrooms\n",
      "40. feature 51 (0.008552) - fe_mobile_adult_density\n",
      "41. feature 27 (0.008478) - overcrowding\n",
      "42. feature 55 (0.008476) - agg18_age_MIN\n",
      "43. feature 31 (0.008450) - area1\n",
      "44. feature 58 (0.008433) - agg18_escolari_MIN\n",
      "45. feature 119 (0.008352) - geo_elimbasu_LE_3\n",
      "46. feature 14 (0.008237) - escolari\n",
      "47. feature 25 (0.008114) - meaneduc\n",
      "48. feature 86 (0.008095) - pared_LE\n",
      "49. feature 33 (0.008083) - age\n",
      "50. feature 7 (0.008060) - r4h2\n",
      "51. feature 120 (0.007983) - geo_elimbasu_LE_5\n",
      "52. feature 69 (0.007941) - agg18_estadocivil5_MEAN\n",
      "53. feature 97 (0.007922) - lugar_LE\n",
      "54. feature 123 (0.007897) - geo_sanitario_LE_0\n",
      "55. feature 35 (0.007885) - SQBage\n",
      "56. feature 71 (0.007873) - agg18_estadocivil6_MEAN\n",
      "57. feature 44 (0.007848) - fe_all_man_fraction\n",
      "58. feature 102 (0.007817) - geo_dependency\n",
      "59. feature 92 (0.007798) - elimbasu_LE\n",
      "60. feature 62 (0.007746) - agg18_estadocivil1_COUNT\n",
      "61. feature 45 (0.007711) - fe_human_density\n",
      "62. feature 0 (0.007631) - v2a1\n",
      "63. feature 56 (0.007629) - agg18_age_MAX\n",
      "64. feature 122 (0.007584) - geo_energcocinar_LE_3\n",
      "65. feature 8 (0.007526) - r4h3\n",
      "66. feature 136 (0.007525) - bedrooms_to_rooms\n",
      "67. feature 91 (0.007479) - energcocinar_LE\n",
      "68. feature 10 (0.007478) - r4m2\n",
      "69. feature 43 (0.007475) - fe_working_man_fraction\n",
      "70. feature 5 (0.007457) - v18q1\n",
      "71. feature 47 (0.007435) - fe_rent_per_person\n",
      "72. feature 4 (0.007360) - refrig\n",
      "73. feature 137 (0.007317) - rent_to_rooms\n",
      "74. feature 26 (0.007297) - bedrooms\n",
      "75. feature 128 (0.007238) - geo_manual_elec_LE_0\n",
      "76. feature 61 (0.007208) - agg18_dis_MEAN\n",
      "77. feature 24 (0.007182) - edjefa\n",
      "78. feature 30 (0.007106) - qmobilephone\n",
      "79. feature 85 (0.007052) - edjef\n",
      "80. feature 72 (0.006995) - agg18_estadocivil7_MEAN\n",
      "81. feature 36 (0.006962) - SQBhogar_total\n",
      "82. feature 90 (0.006927) - sanitario_LE\n",
      "83. feature 29 (0.006899) - television\n",
      "84. feature 21 (0.006897) - hogar_total\n",
      "85. feature 2 (0.006891) - rooms\n",
      "86. feature 125 (0.006886) - geo_sanitario_LE_2\n",
      "87. feature 16 (0.006851) - dis\n",
      "88. feature 18 (0.006810) - hogar_nin\n",
      "89. feature 143 (0.006710) - rent_to_hhsize\n",
      "90. feature 57 (0.006687) - agg18_age_MEAN\n",
      "91. feature 138 (0.006636) - tamhog_to_rooms\n",
      "92. feature 64 (0.006620) - agg18_estadocivil2_COUNT\n",
      "93. feature 52 (0.006611) - fe_tablet_adult_density\n",
      "94. feature 48 (0.006435) - fe_rent_per_room\n",
      "95. feature 6 (0.006235) - r4h1\n",
      "96. feature 1 (0.005999) - hacdor\n",
      "97. feature 99 (0.005923) - manual_elec_LE\n",
      "98. feature 129 (0.005903) - geo_manual_elec_LE_1\n",
      "99. feature 50 (0.005864) - fe_tablet_density\n",
      "100. feature 144 (0.005774) - rent_to_over_18\n",
      "101. feature 79 (0.005734) - agg18_parentesco7_MEAN\n",
      "102. feature 20 (0.005656) - hogar_mayor\n",
      "103. feature 89 (0.005596) - abastagua_LE\n",
      "104. feature 38 (0.005586) - SQBhogar_nin\n",
      "105. feature 111 (0.005451) - geo_etecho_LE_0\n",
      "106. feature 67 (0.005196) - agg18_estadocivil4_MEAN\n",
      "107. feature 88 (0.005127) - techo_LE\n",
      "108. feature 3 (0.005073) - hacapo\n",
      "109. feature 75 (0.004926) - agg18_parentesco3_MEAN\n",
      "110. feature 28 (0.004834) - computer\n",
      "111. feature 81 (0.004800) - agg18_parentesco9_MEAN\n",
      "112. feature 141 (0.004748) - v2a1_to_r4t3\n",
      "113. feature 9 (0.004701) - r4m1\n",
      "114. feature 140 (0.004519) - r4t3_to_rooms\n",
      "115. feature 77 (0.004361) - agg18_parentesco5_MEAN\n",
      "116. feature 53 (0.004182) - fe_people_not_living\n",
      "117. feature 32 (0.004033) - area2\n",
      "118. feature 78 (0.003952) - agg18_parentesco6_MEAN\n",
      "119. feature 83 (0.003865) - agg18_parentesco11_MEAN\n",
      "120. feature 101 (0.003449) - geo_meaneduc\n",
      "121. feature 76 (0.002761) - agg18_parentesco4_MEAN\n",
      "122. feature 142 (0.002618) - hhsize_to_rooms\n",
      "123. feature 84 (0.002575) - agg18_parentesco12_MEAN\n",
      "124. feature 139 (0.001424) - r4t3_to_tamhog\n",
      "125. feature 80 (0.001382) - agg18_parentesco8_MEAN\n",
      "126. feature 113 (0.000000) - geo_etecho_LE_2\n",
      "127. feature 134 (0.000000) - geo_pared_LE_2\n",
      "128. feature 68 (0.000000) - agg18_estadocivil4_COUNT\n",
      "129. feature 70 (0.000000) - agg18_estadocivil5_COUNT\n",
      "130. feature 46 (0.000000) - fe_human_bed_density\n",
      "131. feature 73 (0.000000) - agg18_parentesco1_MEAN\n",
      "132. feature 135 (0.000000) - geo_pared_LE_7\n",
      "133. feature 132 (0.000000) - geo_pared_LE_0\n",
      "134. feature 115 (0.000000) - geo_epared_LE_2\n",
      "135. feature 110 (0.000000) - geo_eviv_LE_2\n",
      "136. feature 130 (0.000000) - geo_manual_elec_LE_3\n",
      "137. feature 103 (0.000000) - geo_hogar_nin\n",
      "138. feature 54 (0.000000) - fe_people_weird_stat\n",
      "139. feature 127 (0.000000) - geo_sanitario_LE_4\n",
      "140. feature 66 (0.000000) - agg18_estadocivil3_COUNT\n",
      "141. feature 108 (0.000000) - geo_eviv_LE_0\n",
      "142. feature 82 (0.000000) - agg18_parentesco10_MEAN\n",
      "143. feature 121 (0.000000) - geo_energcocinar_LE_0\n",
      "144. feature 118 (0.000000) - geo_elimbasu_LE_2\n",
      "145. feature 131 (0.000000) - geo_manual_elec_LE_4\n"
     ]
    }
   ],
   "source": [
    "ranked_features = feature_importance(clf_final, X_train.drop(xgb_drop_cols, axis=1))"
   ]
  },
  {
   "cell_type": "markdown",
   "metadata": {
    "_uuid": "6e78eb892f60a52240aee2b15beaa9f9dfd59994"
   },
   "source": [
    "### Random Forest"
   ]
  },
  {
   "cell_type": "code",
   "execution_count": 50,
   "metadata": {
    "_uuid": "8a98ed5c6da8cd601a4ff2842c4440c16dcca8b8",
    "collapsed": true
   },
   "outputs": [],
   "source": [
    "et_drop_cols = ['agg18_age_MAX', 'agg18_age_MEAN', 'agg18_age_MIN', 'agg18_dis_MEAN',\n",
    "       'agg18_escolari_MAX', 'agg18_escolari_MEAN', 'agg18_escolari_MIN',\n",
    "       'agg18_estadocivil1_COUNT', 'agg18_estadocivil1_MEAN',\n",
    "       'agg18_estadocivil2_COUNT', 'agg18_estadocivil2_MEAN',\n",
    "       'agg18_estadocivil3_COUNT', 'agg18_estadocivil3_MEAN',\n",
    "       'agg18_estadocivil4_COUNT', 'agg18_estadocivil4_MEAN',\n",
    "       'agg18_estadocivil5_COUNT', 'agg18_estadocivil5_MEAN',\n",
    "       'agg18_estadocivil6_COUNT', 'agg18_estadocivil6_MEAN',\n",
    "       'agg18_estadocivil7_COUNT', 'agg18_estadocivil7_MEAN',\n",
    "       'agg18_parentesco10_COUNT', 'agg18_parentesco10_MEAN',\n",
    "       'agg18_parentesco11_COUNT', 'agg18_parentesco11_MEAN',\n",
    "       'agg18_parentesco12_COUNT', 'agg18_parentesco12_MEAN',\n",
    "       'agg18_parentesco1_COUNT', 'agg18_parentesco1_MEAN',\n",
    "       'agg18_parentesco2_COUNT', 'agg18_parentesco2_MEAN',\n",
    "       'agg18_parentesco3_COUNT', 'agg18_parentesco3_MEAN',\n",
    "       'agg18_parentesco4_COUNT', 'agg18_parentesco4_MEAN',\n",
    "       'agg18_parentesco5_COUNT', 'agg18_parentesco5_MEAN',\n",
    "       'agg18_parentesco6_COUNT', 'agg18_parentesco6_MEAN',\n",
    "       'agg18_parentesco7_COUNT', 'agg18_parentesco7_MEAN',\n",
    "       'agg18_parentesco8_COUNT', 'agg18_parentesco8_MEAN',\n",
    "       'agg18_parentesco9_COUNT', 'agg18_parentesco9_MEAN'] #+ ['parentesco_LE', 'rez_esc']\n",
    "\n",
    "et_drop_cols.extend([\"idhogar\", \"parentesco1\", 'fe_rent_per_person', 'fe_rent_per_room',\n",
    "       'fe_tablet_adult_density', 'fe_tablet_density'])"
   ]
  },
  {
   "cell_type": "code",
   "execution_count": 51,
   "metadata": {
    "_uuid": "aa255a424ccbd3839015c82777963dc6b79d8cde",
    "collapsed": true
   },
   "outputs": [
    {
     "name": "stdout",
     "output_type": "stream",
     "text": [
      "Train F1: 0.8990704054631374\n",
      "Test F1: 0.42315372204859547\n",
      "Train F1: 0.897995418026043\n",
      "Test F1: 0.40719052936014105\n",
      "Train F1: 0.8963498800724583\n",
      "Test F1: 0.3974529129044045\n",
      "Train F1: 0.8928010305266193\n",
      "Test F1: 0.40588786789538295\n",
      "Train F1: 0.8909343687879617\n",
      "Test F1: 0.46641624834654005\n",
      "Train F1: 0.8938464106016324\n",
      "Test F1: 0.4311750086470195\n",
      "Train F1: 0.8946332696838437\n",
      "Test F1: 0.41657466647986424\n",
      "Train F1: 0.898467062343887\n",
      "Test F1: 0.4595226009798874\n",
      "Train F1: 0.9018704101003249\n",
      "Test F1: 0.42369826721485787\n",
      "Train F1: 0.8929741191384623\n",
      "Test F1: 0.43477646256408004\n"
     ]
    }
   ],
   "source": [
    "# do the same thing for some extra trees classifiers\n",
    "ets = []    \n",
    "for i in range(10):\n",
    "    rf = RandomForestClassifier(max_depth=None, random_state=217+i, n_jobs=4, n_estimators=700, min_impurity_decrease=1e-3, min_samples_leaf=2, verbose=0, class_weight=\"balanced\")\n",
    "    ets.append(('rf{}'.format(i), rf))   \n",
    "\n",
    "vc2 = VotingClassifierLGBM(ets, voting='soft')    \n",
    "_ = vc2.fit(X_train.drop(et_drop_cols, axis=1), y_train, threshold=False)    "
   ]
  },
  {
   "cell_type": "code",
   "execution_count": 52,
   "metadata": {
    "_uuid": "9eee3dd6964fa71d571aa342c83017b40e6b573e",
    "collapsed": true
   },
   "outputs": [
    {
     "name": "stdout",
     "output_type": "stream",
     "text": [
      "Validation score of a VotingClassifier on 3 LGBMs with soft voting strategy: 0.8530\n",
      "Validation score of a VotingClassifier on 3 LGBMs with hard voting strategy: 0.8718\n"
     ]
    }
   ],
   "source": [
    "# w/ threshold, extra drop cols\n",
    "vc2.voting = 'soft'\n",
    "global_rf_score_soft = f1_score(y_test, vc2.predict(X_test.drop(et_drop_cols, axis=1)), average='macro')\n",
    "vc2.voting = 'hard'\n",
    "global_rf_score_hard = f1_score(y_test, vc2.predict(X_test.drop(et_drop_cols, axis=1)), average='macro')\n",
    "\n",
    "print('Validation score of a VotingClassifier on 3 LGBMs with soft voting strategy: {:.4f}'.format(global_rf_score_soft))\n",
    "print('Validation score of a VotingClassifier on 3 LGBMs with hard voting strategy: {:.4f}'.format(global_rf_score_hard))"
   ]
  },
  {
   "cell_type": "code",
   "execution_count": 53,
   "metadata": {
    "_uuid": "86568853e4dd624fc907c312b3786d2193af2ed2",
    "collapsed": true
   },
   "outputs": [
    {
     "name": "stdout",
     "output_type": "stream",
     "text": [
      "Validation score of a VotingClassifier on 3 LGBMs with soft voting strategy: 0.8530\n",
      "Validation score of a VotingClassifier on 3 LGBMs with hard voting strategy: 0.8718\n"
     ]
    }
   ],
   "source": [
    "# w/o threshold, extra drop cols\n",
    "vc2.voting = 'soft'\n",
    "global_rf_score_soft = f1_score(y_test, vc2.predict(X_test.drop(et_drop_cols, axis=1)), average='macro')\n",
    "vc2.voting = 'hard'\n",
    "global_rf_score_hard = f1_score(y_test, vc2.predict(X_test.drop(et_drop_cols, axis=1)), average='macro')\n",
    "\n",
    "print('Validation score of a VotingClassifier on 3 LGBMs with soft voting strategy: {:.4f}'.format(global_rf_score_soft))\n",
    "print('Validation score of a VotingClassifier on 3 LGBMs with hard voting strategy: {:.4f}'.format(global_rf_score_hard))"
   ]
  },
  {
   "cell_type": "code",
   "execution_count": 54,
   "metadata": {
    "_uuid": "1a85b976aeda6675152ec31c2576fef487716ff3",
    "collapsed": true
   },
   "outputs": [
    {
     "data": {
      "text/plain": [
       "{'parentesco_LE', 'rez_esc'}"
      ]
     },
     "execution_count": 54,
     "metadata": {},
     "output_type": "execute_result"
    }
   ],
   "source": [
    "# see which features are not used by ANY models\n",
    "useless_features = []\n",
    "drop_features = set()\n",
    "counter = 0\n",
    "for est in vc2.estimators_:\n",
    "    ranked_features, unused_features = feature_importance(est, X_train.drop(et_drop_cols, axis=1), display_results=False)\n",
    "    useless_features.append(unused_features)\n",
    "    if counter == 0:\n",
    "        drop_features = set(unused_features)\n",
    "    else:\n",
    "        drop_features = drop_features.intersection(set(unused_features))\n",
    "    counter += 1\n",
    "    \n",
    "drop_features"
   ]
  },
  {
   "cell_type": "code",
   "execution_count": 55,
   "metadata": {
    "_uuid": "33e3f7da04fc8d6099b94885bb6a6e259e56a919",
    "collapsed": true
   },
   "outputs": [],
   "source": [
    "def combine_voters(data, weights=[0.5, 0.5]):\n",
    "    # do soft voting with both classifiers\n",
    "    vc.voting=\"soft\"\n",
    "    vc1_probs = vc.predict_proba(data.drop(xgb_drop_cols, axis=1))\n",
    "    vc2.voting=\"soft\"\n",
    "    vc2_probs = vc2.predict_proba(data.drop(et_drop_cols, axis=1))\n",
    "    \n",
    "    final_vote = (vc1_probs * weights[0]) + (vc2_probs * weights[1])\n",
    "    predictions = np.argmax(final_vote, axis=1)\n",
    "    \n",
    "    return predictions"
   ]
  },
  {
   "cell_type": "code",
   "execution_count": 56,
   "metadata": {
    "_uuid": "5cd61449e198aca7bef88120dda16b736f1fca7b",
    "collapsed": true
   },
   "outputs": [
    {
     "data": {
      "text/plain": [
       "0.8952154851029842"
      ]
     },
     "execution_count": 56,
     "metadata": {},
     "output_type": "execute_result"
    }
   ],
   "source": [
    "combo_preds = combine_voters(X_test, weights=[0.5, 0.5])\n",
    "global_combo_score_soft = f1_score(y_test, combo_preds, average='macro')\n",
    "global_combo_score_soft"
   ]
  },
  {
   "cell_type": "code",
   "execution_count": 57,
   "metadata": {
    "_uuid": "324c4cf008dc0dadd6c74f2bf4ed0a77e0314c2f",
    "collapsed": true
   },
   "outputs": [
    {
     "data": {
      "text/plain": [
       "0.8907351719056553"
      ]
     },
     "execution_count": 57,
     "metadata": {},
     "output_type": "execute_result"
    }
   ],
   "source": [
    "combo_preds = combine_voters(X_test, weights=[0.4, 0.6])\n",
    "global_combo_score_soft= f1_score(y_test, combo_preds, average='macro')\n",
    "global_combo_score_soft"
   ]
  },
  {
   "cell_type": "code",
   "execution_count": 58,
   "metadata": {
    "_uuid": "070fc3eeb109d98a71dfe9f35b217ae8646935ae",
    "collapsed": true
   },
   "outputs": [
    {
     "data": {
      "text/plain": [
       "0.8973383560809789"
      ]
     },
     "execution_count": 58,
     "metadata": {},
     "output_type": "execute_result"
    }
   ],
   "source": [
    "combo_preds = combine_voters(X_test, weights=[0.6, 0.4])\n",
    "global_combo_score_soft = f1_score(y_test, combo_preds, average='macro')\n",
    "global_combo_score_soft"
   ]
  },
  {
   "cell_type": "markdown",
   "metadata": {
    "_uuid": "78749eec7f69bcc8c587278a2c1a43ac8b5832e3"
   },
   "source": [
    "# Prepare submission"
   ]
  },
  {
   "cell_type": "code",
   "execution_count": 59,
   "metadata": {
    "_uuid": "32bfd69fe130005cb88865399c460ac00c7b1574",
    "collapsed": true
   },
   "outputs": [],
   "source": [
    "y_subm = pd.DataFrame()\n",
    "y_subm['Id'] = test_ids"
   ]
  },
  {
   "cell_type": "code",
   "execution_count": 60,
   "metadata": {
    "_uuid": "718054937aa849c23ca7c65483f8a52de6f6fd49",
    "collapsed": true
   },
   "outputs": [],
   "source": [
    "vc.voting = 'soft'\n",
    "y_subm_lgb = y_subm.copy(deep=True)\n",
    "y_subm_lgb['Target'] = vc.predict(test.drop(xgb_drop_cols, axis=1)) + 1\n",
    "\n",
    "vc2.voting = 'soft'\n",
    "y_subm_rf = y_subm.copy(deep=True)\n",
    "y_subm_rf['Target'] = vc2.predict(test.drop(et_drop_cols, axis=1)) + 1\n",
    "\n",
    "y_subm_ens = y_subm.copy(deep=True)\n",
    "y_subm_ens['Target'] = combine_voters(test) + 1"
   ]
  },
  {
   "cell_type": "code",
   "execution_count": 61,
   "metadata": {
    "_uuid": "8258f28127f235e427a25f6824566a23df61b8af",
    "collapsed": true
   },
   "outputs": [],
   "source": [
    "from datetime import datetime\n",
    "now = datetime.now()\n",
    "\n",
    "sub_file_lgb = 'submission_soft_XGB_{:.4f}_{}.csv'.format(global_score_soft, str(now.strftime('%Y-%m-%d-%H-%M')))\n",
    "sub_file_rf = 'submission_soft_RF_{:.4f}_{}.csv'.format(global_rf_score_soft, str(now.strftime('%Y-%m-%d-%H-%M')))\n",
    "sub_file_ens = 'submission_ens_{:.4f}_{}.csv'.format(global_combo_score_soft, str(now.strftime('%Y-%m-%d-%H-%M')))\n",
    "\n",
    "y_subm_lgb.to_csv(sub_file_lgb, index=False)\n",
    "y_subm_rf.to_csv(sub_file_rf, index=False)\n",
    "y_subm_ens.to_csv(sub_file_ens, index=False)"
   ]
  },
  {
   "cell_type": "code",
   "execution_count": null,
   "metadata": {
    "_uuid": "3c6d7f945dec95a777b4221c5fe217c3eea24100",
    "collapsed": true
   },
   "outputs": [],
   "source": []
  }
 ],
 "metadata": {
  "kernelspec": {
   "display_name": "Python 3",
   "language": "python",
   "name": "python3"
  },
  "language_info": {
   "codemirror_mode": {
    "name": "ipython",
    "version": 3
   },
   "file_extension": ".py",
   "mimetype": "text/x-python",
   "name": "python",
   "nbconvert_exporter": "python",
   "pygments_lexer": "ipython3",
   "version": "3.9.13"
  }
 },
 "nbformat": 4,
 "nbformat_minor": 1
}
